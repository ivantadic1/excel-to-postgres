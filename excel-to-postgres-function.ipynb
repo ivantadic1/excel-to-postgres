{
 "cells": [
  {
   "cell_type": "code",
   "execution_count": null,
   "metadata": {},
   "outputs": [],
   "source": [
    "import pandas as pd\n",
    "import psycopg2 as psy\n",
    "from sqlalchemy import create_engine\n",
    "\n",
    "file_path ='data/SpaceNK_20181222 2.0.xlsx'\n",
    "sheet_name='Last Week Report by Store'\n",
    "table_name='excel_datasheet'\n",
    "postgreSQLTable = \"Excel_Datasheet\"\n",
    "csv_datasheet = \"datasheet.csv\""
   ]
  },
  {
   "cell_type": "code",
   "execution_count": null,
   "metadata": {},
   "outputs": [],
   "source": [
    "def excel_to_postgres(file_path, sheet_name,):\n",
    "    df = pd.read_excel(file_path, sheet_name=sheet_name)\n",
    "    df = df.drop(columns=['Unnamed: 0','Unnamed: 1'])\n",
    "    df = df.drop(index=[0,1,2,3], axis=1)\n",
    "    new_header = df.iloc[0]\n",
    "    df = df[1:]\n",
    "    df.columns = new_header\n",
    "    df.to_csv(csv_datasheet)\n",
    "    csv_df = pd.read_csv(csv_datasheet)\n",
    "    csv_df.drop(columns=['Unnamed: 0', 'index', 'Unnamed: 4'], inplace=True)\n",
    "    csv_df.drop(df.tail(1).index, inplace = True) \n",
    "    \n",
    "    df.to_csv('excel_datasheet.csv')\n",
    "    csv_df.columns = csv_df.columns.str.replace('[#,@,&,%,$,€]', '') \n",
    "    csv_df.to_sql(table_name, alchemyEngine)\n",
    "    postgreSQLConnection = alchemyEngine.connect()\n",
    "    \n",
    "    try:\n",
    "        frame = df.to_sql(postgreSQLTable, postgreSQLConnection, if_exists='fail');\n",
    "    except ValueError as vx:\n",
    "        print(vx)\n",
    "    except Exception as ex:  \n",
    "        print(ex)\n",
    "    else:\n",
    "        print(\"PostgreSQL Table %s has been created successfully.\"%postgreSQLTable);\n",
    "    finally:\n",
    "        postgreSQLConnection.close();\n",
    "    "
   ]
  },
  {
   "cell_type": "code",
   "execution_count": null,
   "metadata": {},
   "outputs": [],
   "source": []
  }
 ],
 "metadata": {
  "kernelspec": {
   "display_name": "Python 3",
   "language": "python",
   "name": "python3"
  },
  "language_info": {
   "codemirror_mode": {
    "name": "ipython",
    "version": 3
   },
   "file_extension": ".py",
   "mimetype": "text/x-python",
   "name": "python",
   "nbconvert_exporter": "python",
   "pygments_lexer": "ipython3",
   "version": "3.8.5"
  }
 },
 "nbformat": 4,
 "nbformat_minor": 4
}
